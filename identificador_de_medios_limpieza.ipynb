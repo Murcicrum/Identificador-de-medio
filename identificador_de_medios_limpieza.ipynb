{
  "nbformat": 4,
  "nbformat_minor": 0,
  "metadata": {
    "colab": {
      "name": "identificador-de-medios_limpieza.ipynb",
      "provenance": [],
      "collapsed_sections": [
        "UTb1K5P2z7yu",
        "qjw2plh2DGbG",
        "S0kby8WfDL4e",
        "FhGa71c3ZSPM",
        "5CrZgQrVOmWf",
        "yPqjx1ndvpq9",
        "z-g9WgPfoZQh",
        "fgXb4c9qwPu3",
        "KIV9ZXCf0ROr",
        "IoCxy2rgwcsl",
        "eZQm1__CdIt9",
        "AkosdOsk-Hjx",
        "HK-1eNbrZp1T",
        "FYMkvXNYon8y"
      ],
      "authorship_tag": "ABX9TyMxqKlnGEFJHhT7N1M5nesp",
      "include_colab_link": true
    },
    "kernelspec": {
      "name": "python3",
      "display_name": "Python 3"
    },
    "language_info": {
      "name": "python"
    },
    "widgets": {
      "application/vnd.jupyter.widget-state+json": {
        "93b723f8035743d494b213a8c3527970": {
          "model_module": "@jupyter-widgets/controls",
          "model_name": "HBoxModel",
          "model_module_version": "1.5.0",
          "state": {
            "_dom_classes": [],
            "_model_module": "@jupyter-widgets/controls",
            "_model_module_version": "1.5.0",
            "_model_name": "HBoxModel",
            "_view_count": null,
            "_view_module": "@jupyter-widgets/controls",
            "_view_module_version": "1.5.0",
            "_view_name": "HBoxView",
            "box_style": "",
            "children": [
              "IPY_MODEL_13fb6fd14f614e73b328584da7586606",
              "IPY_MODEL_4ba36dcb089b4521a7d0a50375ce79b9",
              "IPY_MODEL_c2019be92bad41b3b8df863b00e80206"
            ],
            "layout": "IPY_MODEL_fee04c881e5d4d9db9de23db0d205ede"
          }
        },
        "13fb6fd14f614e73b328584da7586606": {
          "model_module": "@jupyter-widgets/controls",
          "model_name": "HTMLModel",
          "model_module_version": "1.5.0",
          "state": {
            "_dom_classes": [],
            "_model_module": "@jupyter-widgets/controls",
            "_model_module_version": "1.5.0",
            "_model_name": "HTMLModel",
            "_view_count": null,
            "_view_module": "@jupyter-widgets/controls",
            "_view_module_version": "1.5.0",
            "_view_name": "HTMLView",
            "description": "",
            "description_tooltip": null,
            "layout": "IPY_MODEL_3fc6685c7c824043a647dc19e7d3244d",
            "placeholder": "​",
            "style": "IPY_MODEL_56398359f1e54bbcaf584b484f1616dd",
            "value": "Downloading https://raw.githubusercontent.com/stanfordnlp/stanza-resources/main/resources_1.3.0.json: "
          }
        },
        "4ba36dcb089b4521a7d0a50375ce79b9": {
          "model_module": "@jupyter-widgets/controls",
          "model_name": "FloatProgressModel",
          "model_module_version": "1.5.0",
          "state": {
            "_dom_classes": [],
            "_model_module": "@jupyter-widgets/controls",
            "_model_module_version": "1.5.0",
            "_model_name": "FloatProgressModel",
            "_view_count": null,
            "_view_module": "@jupyter-widgets/controls",
            "_view_module_version": "1.5.0",
            "_view_name": "ProgressView",
            "bar_style": "success",
            "description": "",
            "description_tooltip": null,
            "layout": "IPY_MODEL_5b8fdc8f46fb4cb7b2847647b2de78ac",
            "max": 24459,
            "min": 0,
            "orientation": "horizontal",
            "style": "IPY_MODEL_f8539cea40014791ab709c9cb83720ea",
            "value": 24459
          }
        },
        "c2019be92bad41b3b8df863b00e80206": {
          "model_module": "@jupyter-widgets/controls",
          "model_name": "HTMLModel",
          "model_module_version": "1.5.0",
          "state": {
            "_dom_classes": [],
            "_model_module": "@jupyter-widgets/controls",
            "_model_module_version": "1.5.0",
            "_model_name": "HTMLModel",
            "_view_count": null,
            "_view_module": "@jupyter-widgets/controls",
            "_view_module_version": "1.5.0",
            "_view_name": "HTMLView",
            "description": "",
            "description_tooltip": null,
            "layout": "IPY_MODEL_6270cf706c4f49059f5cb0cc18c2ead6",
            "placeholder": "​",
            "style": "IPY_MODEL_39107572c5dc4d83abfdf53a8d8b78c0",
            "value": " 142k/? [00:00&lt;00:00, 3.99MB/s]"
          }
        },
        "fee04c881e5d4d9db9de23db0d205ede": {
          "model_module": "@jupyter-widgets/base",
          "model_name": "LayoutModel",
          "model_module_version": "1.2.0",
          "state": {
            "_model_module": "@jupyter-widgets/base",
            "_model_module_version": "1.2.0",
            "_model_name": "LayoutModel",
            "_view_count": null,
            "_view_module": "@jupyter-widgets/base",
            "_view_module_version": "1.2.0",
            "_view_name": "LayoutView",
            "align_content": null,
            "align_items": null,
            "align_self": null,
            "border": null,
            "bottom": null,
            "display": null,
            "flex": null,
            "flex_flow": null,
            "grid_area": null,
            "grid_auto_columns": null,
            "grid_auto_flow": null,
            "grid_auto_rows": null,
            "grid_column": null,
            "grid_gap": null,
            "grid_row": null,
            "grid_template_areas": null,
            "grid_template_columns": null,
            "grid_template_rows": null,
            "height": null,
            "justify_content": null,
            "justify_items": null,
            "left": null,
            "margin": null,
            "max_height": null,
            "max_width": null,
            "min_height": null,
            "min_width": null,
            "object_fit": null,
            "object_position": null,
            "order": null,
            "overflow": null,
            "overflow_x": null,
            "overflow_y": null,
            "padding": null,
            "right": null,
            "top": null,
            "visibility": null,
            "width": null
          }
        },
        "3fc6685c7c824043a647dc19e7d3244d": {
          "model_module": "@jupyter-widgets/base",
          "model_name": "LayoutModel",
          "model_module_version": "1.2.0",
          "state": {
            "_model_module": "@jupyter-widgets/base",
            "_model_module_version": "1.2.0",
            "_model_name": "LayoutModel",
            "_view_count": null,
            "_view_module": "@jupyter-widgets/base",
            "_view_module_version": "1.2.0",
            "_view_name": "LayoutView",
            "align_content": null,
            "align_items": null,
            "align_self": null,
            "border": null,
            "bottom": null,
            "display": null,
            "flex": null,
            "flex_flow": null,
            "grid_area": null,
            "grid_auto_columns": null,
            "grid_auto_flow": null,
            "grid_auto_rows": null,
            "grid_column": null,
            "grid_gap": null,
            "grid_row": null,
            "grid_template_areas": null,
            "grid_template_columns": null,
            "grid_template_rows": null,
            "height": null,
            "justify_content": null,
            "justify_items": null,
            "left": null,
            "margin": null,
            "max_height": null,
            "max_width": null,
            "min_height": null,
            "min_width": null,
            "object_fit": null,
            "object_position": null,
            "order": null,
            "overflow": null,
            "overflow_x": null,
            "overflow_y": null,
            "padding": null,
            "right": null,
            "top": null,
            "visibility": null,
            "width": null
          }
        },
        "56398359f1e54bbcaf584b484f1616dd": {
          "model_module": "@jupyter-widgets/controls",
          "model_name": "DescriptionStyleModel",
          "model_module_version": "1.5.0",
          "state": {
            "_model_module": "@jupyter-widgets/controls",
            "_model_module_version": "1.5.0",
            "_model_name": "DescriptionStyleModel",
            "_view_count": null,
            "_view_module": "@jupyter-widgets/base",
            "_view_module_version": "1.2.0",
            "_view_name": "StyleView",
            "description_width": ""
          }
        },
        "5b8fdc8f46fb4cb7b2847647b2de78ac": {
          "model_module": "@jupyter-widgets/base",
          "model_name": "LayoutModel",
          "model_module_version": "1.2.0",
          "state": {
            "_model_module": "@jupyter-widgets/base",
            "_model_module_version": "1.2.0",
            "_model_name": "LayoutModel",
            "_view_count": null,
            "_view_module": "@jupyter-widgets/base",
            "_view_module_version": "1.2.0",
            "_view_name": "LayoutView",
            "align_content": null,
            "align_items": null,
            "align_self": null,
            "border": null,
            "bottom": null,
            "display": null,
            "flex": null,
            "flex_flow": null,
            "grid_area": null,
            "grid_auto_columns": null,
            "grid_auto_flow": null,
            "grid_auto_rows": null,
            "grid_column": null,
            "grid_gap": null,
            "grid_row": null,
            "grid_template_areas": null,
            "grid_template_columns": null,
            "grid_template_rows": null,
            "height": null,
            "justify_content": null,
            "justify_items": null,
            "left": null,
            "margin": null,
            "max_height": null,
            "max_width": null,
            "min_height": null,
            "min_width": null,
            "object_fit": null,
            "object_position": null,
            "order": null,
            "overflow": null,
            "overflow_x": null,
            "overflow_y": null,
            "padding": null,
            "right": null,
            "top": null,
            "visibility": null,
            "width": null
          }
        },
        "f8539cea40014791ab709c9cb83720ea": {
          "model_module": "@jupyter-widgets/controls",
          "model_name": "ProgressStyleModel",
          "model_module_version": "1.5.0",
          "state": {
            "_model_module": "@jupyter-widgets/controls",
            "_model_module_version": "1.5.0",
            "_model_name": "ProgressStyleModel",
            "_view_count": null,
            "_view_module": "@jupyter-widgets/base",
            "_view_module_version": "1.2.0",
            "_view_name": "StyleView",
            "bar_color": null,
            "description_width": ""
          }
        },
        "6270cf706c4f49059f5cb0cc18c2ead6": {
          "model_module": "@jupyter-widgets/base",
          "model_name": "LayoutModel",
          "model_module_version": "1.2.0",
          "state": {
            "_model_module": "@jupyter-widgets/base",
            "_model_module_version": "1.2.0",
            "_model_name": "LayoutModel",
            "_view_count": null,
            "_view_module": "@jupyter-widgets/base",
            "_view_module_version": "1.2.0",
            "_view_name": "LayoutView",
            "align_content": null,
            "align_items": null,
            "align_self": null,
            "border": null,
            "bottom": null,
            "display": null,
            "flex": null,
            "flex_flow": null,
            "grid_area": null,
            "grid_auto_columns": null,
            "grid_auto_flow": null,
            "grid_auto_rows": null,
            "grid_column": null,
            "grid_gap": null,
            "grid_row": null,
            "grid_template_areas": null,
            "grid_template_columns": null,
            "grid_template_rows": null,
            "height": null,
            "justify_content": null,
            "justify_items": null,
            "left": null,
            "margin": null,
            "max_height": null,
            "max_width": null,
            "min_height": null,
            "min_width": null,
            "object_fit": null,
            "object_position": null,
            "order": null,
            "overflow": null,
            "overflow_x": null,
            "overflow_y": null,
            "padding": null,
            "right": null,
            "top": null,
            "visibility": null,
            "width": null
          }
        },
        "39107572c5dc4d83abfdf53a8d8b78c0": {
          "model_module": "@jupyter-widgets/controls",
          "model_name": "DescriptionStyleModel",
          "model_module_version": "1.5.0",
          "state": {
            "_model_module": "@jupyter-widgets/controls",
            "_model_module_version": "1.5.0",
            "_model_name": "DescriptionStyleModel",
            "_view_count": null,
            "_view_module": "@jupyter-widgets/base",
            "_view_module_version": "1.2.0",
            "_view_name": "StyleView",
            "description_width": ""
          }
        }
      }
    }
  },
  "cells": [
    {
      "cell_type": "markdown",
      "metadata": {
        "id": "view-in-github",
        "colab_type": "text"
      },
      "source": [
        "<a href=\"https://colab.research.google.com/github/Murcicrum/Identificador-de-medio/blob/main/identificador_de_medios_limpieza.ipynb\" target=\"_parent\"><img src=\"https://colab.research.google.com/assets/colab-badge.svg\" alt=\"Open In Colab\"/></a>"
      ]
    },
    {
      "cell_type": "markdown",
      "source": [
        "###Imports"
      ],
      "metadata": {
        "id": "B9wJM1e0vN_3"
      }
    },
    {
      "cell_type": "code",
      "source": [
        "import os\n",
        "\n",
        "import csv\n",
        "import json\n",
        "\n",
        "import requests\n",
        "from bs4 import BeautifulSoup as bs\n",
        "from time import sleep\n",
        "from random import random\n",
        "\n",
        "import re\n",
        "import string"
      ],
      "metadata": {
        "id": "nXU645WWvQ2O"
      },
      "execution_count": 40,
      "outputs": []
    },
    {
      "cell_type": "code",
      "source": [
        "from google.colab import drive\n",
        "drive.mount('/content/drive')"
      ],
      "metadata": {
        "colab": {
          "base_uri": "https://localhost:8080/"
        },
        "id": "LFb9bdYii8ao",
        "outputId": "bea79548-afc1-481d-cbe8-33730e244553"
      },
      "execution_count": 41,
      "outputs": [
        {
          "output_type": "stream",
          "name": "stdout",
          "text": [
            "Drive already mounted at /content/drive; to attempt to forcibly remount, call drive.mount(\"/content/drive\", force_remount=True).\n"
          ]
        }
      ]
    },
    {
      "cell_type": "code",
      "source": [
        "from google.colab import drive\n",
        "drive.mount('/content/drive')\n",
        "\n",
        "os.chdir('/content/drive/MyDrive/Colab Notebooks/proyectos/identificador-de-medio/')"
      ],
      "metadata": {
        "colab": {
          "base_uri": "https://localhost:8080/"
        },
        "id": "P072Mc2ccLdx",
        "outputId": "07e158e6-44fb-478c-db66-a7a87cdf9bdb"
      },
      "execution_count": 45,
      "outputs": [
        {
          "output_type": "stream",
          "name": "stdout",
          "text": [
            "Drive already mounted at /content/drive; to attempt to forcibly remount, call drive.mount(\"/content/drive\", force_remount=True).\n"
          ]
        }
      ]
    },
    {
      "cell_type": "code",
      "source": [
        "!pip install stanza\n",
        "import stanza\n",
        "stanza.download('es')\n",
        "\n",
        "nlp = stanza.Pipeline('es')"
      ],
      "metadata": {
        "id": "L6UmqsdbZiq_",
        "colab": {
          "base_uri": "https://localhost:8080/",
          "height": 674,
          "referenced_widgets": [
            "93b723f8035743d494b213a8c3527970",
            "13fb6fd14f614e73b328584da7586606",
            "4ba36dcb089b4521a7d0a50375ce79b9",
            "c2019be92bad41b3b8df863b00e80206",
            "fee04c881e5d4d9db9de23db0d205ede",
            "3fc6685c7c824043a647dc19e7d3244d",
            "56398359f1e54bbcaf584b484f1616dd",
            "5b8fdc8f46fb4cb7b2847647b2de78ac",
            "f8539cea40014791ab709c9cb83720ea",
            "6270cf706c4f49059f5cb0cc18c2ead6",
            "39107572c5dc4d83abfdf53a8d8b78c0"
          ]
        },
        "outputId": "6d5fc839-af6a-4ef1-b7bb-669a64f477d4"
      },
      "execution_count": 3,
      "outputs": [
        {
          "output_type": "stream",
          "name": "stdout",
          "text": [
            "Requirement already satisfied: stanza in /usr/local/lib/python3.7/dist-packages (1.3.0)\n",
            "Requirement already satisfied: six in /usr/local/lib/python3.7/dist-packages (from stanza) (1.15.0)\n",
            "Requirement already satisfied: emoji in /usr/local/lib/python3.7/dist-packages (from stanza) (1.7.0)\n",
            "Requirement already satisfied: tqdm in /usr/local/lib/python3.7/dist-packages (from stanza) (4.63.0)\n",
            "Requirement already satisfied: protobuf in /usr/local/lib/python3.7/dist-packages (from stanza) (3.17.3)\n",
            "Requirement already satisfied: numpy in /usr/local/lib/python3.7/dist-packages (from stanza) (1.21.5)\n",
            "Requirement already satisfied: torch>=1.3.0 in /usr/local/lib/python3.7/dist-packages (from stanza) (1.10.0+cu111)\n",
            "Requirement already satisfied: requests in /usr/local/lib/python3.7/dist-packages (from stanza) (2.23.0)\n",
            "Requirement already satisfied: typing-extensions in /usr/local/lib/python3.7/dist-packages (from torch>=1.3.0->stanza) (3.10.0.2)\n",
            "Requirement already satisfied: idna<3,>=2.5 in /usr/local/lib/python3.7/dist-packages (from requests->stanza) (2.10)\n",
            "Requirement already satisfied: chardet<4,>=3.0.2 in /usr/local/lib/python3.7/dist-packages (from requests->stanza) (3.0.4)\n",
            "Requirement already satisfied: urllib3!=1.25.0,!=1.25.1,<1.26,>=1.21.1 in /usr/local/lib/python3.7/dist-packages (from requests->stanza) (1.24.3)\n",
            "Requirement already satisfied: certifi>=2017.4.17 in /usr/local/lib/python3.7/dist-packages (from requests->stanza) (2021.10.8)\n"
          ]
        },
        {
          "output_type": "display_data",
          "data": {
            "text/plain": [
              "Downloading https://raw.githubusercontent.com/stanfordnlp/stanza-resources/main/resources_1.3.0.json:   0%|   …"
            ],
            "application/vnd.jupyter.widget-view+json": {
              "version_major": 2,
              "version_minor": 0,
              "model_id": "93b723f8035743d494b213a8c3527970"
            }
          },
          "metadata": {}
        },
        {
          "output_type": "stream",
          "name": "stderr",
          "text": [
            "2022-03-30 15:32:58 INFO: Downloading default packages for language: es (Spanish)...\n",
            "2022-03-30 15:32:59 INFO: File exists: /root/stanza_resources/es/default.zip.\n",
            "2022-03-30 15:33:05 INFO: Finished downloading models and saved to /root/stanza_resources.\n",
            "2022-03-30 15:33:05 INFO: Loading these models for language: es (Spanish):\n",
            "=======================\n",
            "| Processor | Package |\n",
            "-----------------------\n",
            "| tokenize  | ancora  |\n",
            "| mwt       | ancora  |\n",
            "| pos       | ancora  |\n",
            "| lemma     | ancora  |\n",
            "| depparse  | ancora  |\n",
            "| ner       | conll02 |\n",
            "=======================\n",
            "\n",
            "2022-03-30 15:33:05 INFO: Use device: cpu\n",
            "2022-03-30 15:33:05 INFO: Loading: tokenize\n",
            "2022-03-30 15:33:05 INFO: Loading: mwt\n",
            "2022-03-30 15:33:05 INFO: Loading: pos\n",
            "2022-03-30 15:33:06 INFO: Loading: lemma\n",
            "2022-03-30 15:33:06 INFO: Loading: depparse\n",
            "2022-03-30 15:33:06 INFO: Loading: ner\n",
            "2022-03-30 15:33:08 INFO: Done loading processors!\n"
          ]
        }
      ]
    },
    {
      "cell_type": "markdown",
      "source": [
        "###Definiciones útiles"
      ],
      "metadata": {
        "id": "UTb1K5P2z7yu"
      }
    },
    {
      "cell_type": "code",
      "source": [
        "LETTERS = string.ascii_letters\n",
        "SYMBOLS = string.punctuation + '¿¡'"
      ],
      "metadata": {
        "id": "FYPV1s1kyFTa"
      },
      "execution_count": 4,
      "outputs": []
    },
    {
      "cell_type": "markdown",
      "source": [
        "#####Para leer los .json"
      ],
      "metadata": {
        "id": "qjw2plh2DGbG"
      }
    },
    {
      "cell_type": "code",
      "source": [
        "def get_tweetstext(path_jsons)-> dict: \n",
        "    '''\n",
        "    Dado el path a una carpeta que contenga archivos USER_tweets.json\n",
        "    Devuelve diccionario con USER como claves \n",
        "    y una lista con los textos de sus tweets como valor\n",
        "    '''\n",
        "    tweets_text = {}\n",
        "    \n",
        "    for filename in os.listdir( path_jsons ):\n",
        "      texts = []\n",
        "      \n",
        "      if filename[-5:] == '.json':\n",
        "          json_data = json.load( open(path_jsons+filename) )\n",
        "      else: continue\n",
        "      \n",
        "      for element in json_data['data']:\n",
        "          text = element['text']\n",
        "          texts.append(text)\n",
        "\n",
        "      user = filename.replace('_tweets.json', '')\n",
        "      tweets_text[ user ] = texts\n",
        "        \n",
        "    return tweets_text\n",
        "\n",
        "\n",
        "\n",
        "def print_tweets(tweets_dict, key=None):\n",
        "    '''\n",
        "    Dado un diccionario imprime ordenadamente su contenido\n",
        "    Si una key del mismo es especificada, imprime sólo el valor de esa key\n",
        "    Si no se especifica key se imprimen recursivamente todas \n",
        "    '''\n",
        "    if key:\n",
        "        print('***', key)\n",
        "        for value in tweets_dict[key]:\n",
        "           print('->', value)\n",
        "    else:\n",
        "        for key in tweets_dict:\n",
        "            print_tweets(tweets_dict, key)\n",
        "            print('\\n\\n')"
      ],
      "metadata": {
        "id": "J8_BiFD90Dmz"
      },
      "execution_count": 5,
      "outputs": []
    },
    {
      "cell_type": "markdown",
      "source": [
        "#####Para scrapear Pagina12 e IP Noticias"
      ],
      "metadata": {
        "id": "S0kby8WfDL4e"
      }
    },
    {
      "cell_type": "markdown",
      "source": [
        "Extraer los links a las publicaciones"
      ],
      "metadata": {
        "id": "SSKMGKLVEBzZ"
      }
    },
    {
      "cell_type": "code",
      "source": [
        "def get_reallinks(twitter_links, verbose=False) -> list:\n",
        "    '''\n",
        "    Dada una lista de links comprimidos por twitter\n",
        "    Devuelve los links reales/descomprimidos\n",
        "    '''\n",
        "    real_links = []\n",
        "    \n",
        "    for i, link in enumerate(twitter_links):\n",
        "        if verbose: print('Procesando link ',i, '\\t', link)\n",
        "        try:\n",
        "            response = requests.get(link)\n",
        "            real_links.append(response.url)\n",
        "        except: print('Falló lectura del link', i, '\\t', link)\n",
        "    \n",
        "    return real_links\n",
        "\n",
        "\n",
        "def get_links(tweets_list) -> list:\n",
        "    links_list = []\n",
        "    for tweet in tweets_list:\n",
        "        i_link = tweet.rfind('http')                  #Capturo el último línk\n",
        "         \n",
        "        if i_link != -1:                              #i.e. si encontró un link, ya que si el tweet no tiene link rfind devuelve -1\n",
        "            links_list.append( tweet[i_link:] )\n",
        "        \n",
        "    return links_list"
      ],
      "metadata": {
        "id": "XQVeBHw3DUl4"
      },
      "execution_count": 6,
      "outputs": []
    },
    {
      "cell_type": "markdown",
      "source": [
        "Extraer los titulares de las publicaciones"
      ],
      "metadata": {
        "id": "YE-4fHH0EGjH"
      }
    },
    {
      "cell_type": "code",
      "source": [
        "def get_titles_ipn(ipn_links, verbose=False) -> list:\n",
        "    '''\n",
        "    Dada una lista de links de artículos de IPNoticias\n",
        "    Devulve los titulares de dichos artículos\n",
        "    '''\n",
        "    ipn_titles = []\n",
        "\n",
        "    for i,link in enumerate(ipn_links):\n",
        "        if verbose: print('Link ', i, '\\t',link)\n",
        "\n",
        "#Me quedo con los links que remiten a notas escritas, descartando videos y directos\n",
        "        if link.startswith('https://ip.digital/nota/'):\n",
        "            response = requests.get(link)\n",
        "            soup = bs(response.content)\n",
        "            try:\n",
        "                title = soup.find_all('title')[0].text\n",
        "                i = title.find(' |')\n",
        "                ipn_titles.append( title[:i] )\n",
        "            except: print('Falló lectura del link ', i)\n",
        "        \n",
        "        elif verbose: print('El link no pertenece a una nota de IPNoticias.\\n')\n",
        "        \n",
        "        sleep(random())\n",
        "    return ipn_titles                \n",
        "\n",
        "\n",
        "def get_titles_p12(p12_links, verbose=False) -> list:\n",
        "    '''\n",
        "    Dada una lista de links de artículos de Página12\n",
        "    Devulve los titulares de dichos artículos\n",
        "    '''\n",
        "    p12_titles = []\n",
        "    headers = {'User-Agent':\t'Mozilla/5.0 (X11; Ubuntu; Linux x86_64; rv:98.0) Gecko/20100101 Firefox/98.0'}\n",
        "    for i, link in enumerate(p12_links):\n",
        "        \n",
        "        if verbose: print('Link ', i, '\\t',link)\n",
        "        \n",
        "        if link.startswith('https://www.pagina12.com.ar/'):\n",
        "          response = requests.get(link, headers=headers)\n",
        "          soup = bs(response.content)\n",
        "          try:\n",
        "              title = soup.find_all('title')[0].text\n",
        "              i = title.find(' |')\n",
        "              p12_titles.append( title[:i] )\n",
        "          except: print('Falló lectura del link ', i)\n",
        "        \n",
        "        elif verbose : print('El link no pertenece a una nota de Página12.\\n')\n",
        "\n",
        "        sleep(random())\n",
        "    \n",
        "    return p12_titles"
      ],
      "metadata": {
        "id": "8RSqqOZDD_lj"
      },
      "execution_count": 7,
      "outputs": []
    },
    {
      "cell_type": "markdown",
      "source": [
        "#####Para lematizar los titulares"
      ],
      "metadata": {
        "id": "FhGa71c3ZSPM"
      }
    },
    {
      "cell_type": "code",
      "source": [
        "def lemmatize( string ):\n",
        "\n",
        "    doc = nlp( string )\n",
        "\n",
        "    lem_words = [ l for [l,u] in doc.get(['lemma','upos']) \n",
        "                    if u not in ['PUNCT','ADP','DET','PRON'] ]      #Filtro signos de puntuación, artículos, pronombres, ...\n",
        "\n",
        "    lem_string = ' '.join( lem_words )\n",
        "    lem_string = lem_string.lower()\n",
        "\n",
        "    return lem_string"
      ],
      "metadata": {
        "id": "Py441kqH_xXx"
      },
      "execution_count": 8,
      "outputs": []
    },
    {
      "cell_type": "markdown",
      "metadata": {
        "id": "Z8qxqfEHoRYV"
      },
      "source": [
        "#1. Cargado de datos"
      ]
    },
    {
      "cell_type": "markdown",
      "source": [
        "En nuestro caso los medios de los que extrajimos los tweets y sus respectivas cuentas fueron:\n",
        "\n",
        "|  Medio | Cuenta de Twitter  |\n",
        "|---|---|\n",
        "|IP | _IPNoticias|\n",
        "|Clarín | clarincom|\n",
        "|Crónica | cronica|\n",
        "|Infobae | Infobae|\n",
        "|La Nación| LANACION|\n",
        "|Página12| pagina12|\n",
        "|TN| todonoticias|"
      ],
      "metadata": {
        "id": "LZicydGz0-os"
      }
    },
    {
      "cell_type": "markdown",
      "source": [
        "###Lectura de archivos .json"
      ],
      "metadata": {
        "id": "hieBiWQqR-Bf"
      }
    },
    {
      "cell_type": "markdown",
      "source": [
        "Los tweets de los que partimos fueron obtenidos con la API de Twitter. Esta provee, para cada una de las cuentas de medios de noticias solicitadas,  un archivo .json de la forma:\n",
        "\n",
        "\n",
        "```\n",
        "{\n",
        "    \"data\": [\n",
        "        {\n",
        "            \"id\": \"1403823059149070336\",\n",
        "            \"text\": \"\\\"Soy un ser superior\\\": c\\u00f3mo fueron los macabros cr\\u00edmenes del \\\"doctor muerte\\\", el m\\u00e9dico que asesin\\u00f3 a m\\u00e1s de 200 pacientes https://t.co/zWmbnkvMyw\"\n",
        "        },\n",
        "        {\n",
        "            \"id\": \"1403821608763113477\",\n",
        "            \"text\": \"Fue al m\\u00e9dico con el ojo irritado y descubri\\u00f3 algo horroroso https://t.co/4uSkA1dCbW\"\n",
        "        },\n",
        "        ...\n",
        "        {\n",
        "            \"id\": \"1403821178200879107\",\n",
        "            \"text\": \"RT @depoweb: \\u00c1ngel Cabrera enfrentar\\u00e1, en C\\u00f3rdoba, el juicio por delitos de violencia de g\\u00e9nero https://t.co/4dwEEPZtJg\"\n",
        "        }        \n",
        "    ],\n",
        "    \"meta\": {\n",
        "        \"newest_id\": \"1403824724422139905\",\n",
        "        \"next_token\": \"7140dibdnow9c7btw3z0rtvf8v32vzyut25qapwcds7qv\",\n",
        "        \"oldest_id\": \"1403818329819815937\",\n",
        "        \"result_count\": 10\n",
        "    }\n",
        "}\n",
        "```\n",
        "\n"
      ],
      "metadata": {
        "id": "EX9LspFVtLPC"
      }
    },
    {
      "cell_type": "markdown",
      "source": [
        "En primera instancia entonces lo que cabe es leer cada archivo .json y extraer de cada tweet ( i.e. de cada elemento de la lista con clave \"data\") el texto (string con clave \"text\"), para posteriormente aplicarlas las transformaciones necesarias para quedarnos sólo con los titulares limpios.\n",
        "\n",
        "Extraigo entonces el texto de todos los archivos descargados:"
      ],
      "metadata": {
        "id": "bm1u4wWDtuAA"
      }
    },
    {
      "cell_type": "code",
      "source": [
        "tweets_text = get_tweetstext('tweets/')"
      ],
      "metadata": {
        "id": "hl-HY-Q8ytWf"
      },
      "execution_count": 46,
      "outputs": []
    },
    {
      "cell_type": "markdown",
      "source": [
        "Tenemos entonces, por ejemplo:"
      ],
      "metadata": {
        "id": "rDSiMK6K2ED0"
      }
    },
    {
      "cell_type": "markdown",
      "source": [
        "Tweets de Crónica"
      ],
      "metadata": {
        "id": "2K_QztnvLBet"
      }
    },
    {
      "cell_type": "code",
      "source": [
        "print_tweets(tweets_text, key='cronica')"
      ],
      "metadata": {
        "colab": {
          "base_uri": "https://localhost:8080/"
        },
        "id": "fK0pJD0N0bOz",
        "outputId": "1f045a6b-f8be-415c-985d-af91e663b047"
      },
      "execution_count": 47,
      "outputs": [
        {
          "output_type": "stream",
          "name": "stdout",
          "text": [
            "*** cronica\n",
            "-> #VIDEO \"No sabés con quién te estás metiendo\": así presunto juez atacó a un motociclista en una escena a lo \"Relatos Salvajes\" #TremendaSecuencia #Tucumán #MiráLasImágenes https://t.co/yLwsUk0aM0\n",
            "-> RT @BAENegocios: Restricciones en Santa Fe por coronavirus: fin de semana cerrado https://t.co/Jo02fXLv35\n",
            "-> \"No sabés con quién te estás metiendo\": así presunto juez atacó a un motociclista en una escena a lo \"Relatos Salvajes\" https://t.co/Q0835OYfbW\n",
            "-> \"Soy un ser superior\": cómo fueron los macabros crímenes del \"doctor muerte\", el médico que asesinó a más de 200 pacientes https://t.co/zWmbnkvMyw\n",
            "-> Fue al médico con el ojo irritado y descubrió algo horroroso https://t.co/4uSkA1dCbW\n",
            "-> RT @depoweb: Ángel Cabrera enfrentará, en Córdoba, el juicio por delitos de violencia de género https://t.co/4dwEEPZtJg\n",
            "-> RT @depoweb: Goleador reveló que tanto Boca como River quisieron contratarlo https://t.co/PbsX9IY6gG\n",
            "-> RT @depoweb: #Complicado El golfista ya está en su provincia y se presentará ante la Justicia. Todos los detalles, en la nota #PatoCabrera…\n",
            "-> RT @depoweb: #Motivado El mediocampista se refirió a su próximo desafío con la Selección Argentina. Más detalles, en la nota #SelecciónArge…\n",
            "-> RT @depoweb: #Codiciado El jugador rechazó ambas ofertas porque prefirió seguir en Europa. Enterate de quién se trata, en la nota #Boca #Ri…\n"
          ]
        }
      ]
    },
    {
      "cell_type": "markdown",
      "source": [
        "Tweets de Clarín"
      ],
      "metadata": {
        "id": "975gOyAcK-0X"
      }
    },
    {
      "cell_type": "code",
      "source": [
        "print_tweets(tweets_text, key='clarincom')"
      ],
      "metadata": {
        "colab": {
          "base_uri": "https://localhost:8080/"
        },
        "id": "j-RzrKzC0poA",
        "outputId": "eb264500-be9b-4139-db91-a00d16ea775f"
      },
      "execution_count": 11,
      "outputs": [
        {
          "output_type": "stream",
          "name": "stdout",
          "text": [
            "*** clarincom\n",
            "-> ¿Será cierto que el que apuesta a la inflación gana? https://t.co/6hDHxhGc5U\n",
            "-> Joe Biden convence al G7 de lanzar un megaplan mundial de infraestructuras para hacer frente a China https://t.co/NcGehCmkKU\n",
            "-> Hallazgo: el cine porno es un invento argentino como el dulce de leche https://t.co/UKKGk5TzgH\n",
            "-> El capitán de Dinamarca, fundamental para salvarle la vida a Christian Eriksen https://t.co/AEhVCW5yoE\n",
            "-> El intendente de Esteban Echeverría denunció que el Gobierno discrimina la entrega de ayuda alimentaria https://t.co/xprQXhsSdt\n",
            "-> Indiana Jones cumple 40 años: la película que todos rechazaban y se convirtió en una de las sagas más exitosas del cine https://t.co/nkhTjKvp8c\n",
            "-> Tras la polémica por el regreso de las clases presenciales, Axel Kicillof se reunió con Nicolás Trotta https://t.co/DG4agk6hbg\n",
            "-> Coronavirus: reportan otras 447 muertes y Argentina superó los 85.000 fallecidos https://t.co/P2A6jG5qHr\n",
            "-> Argentina superará las 20 millones de vacunas: llega este sábado el primer envío de Astrazeneca desde México https://t.co/mmsk4PqLg6\n",
            "-> Diferencias entre los gremios docentes por la vuelta a clases en Provincia https://t.co/c2kW6kDsq5\n"
          ]
        }
      ]
    },
    {
      "cell_type": "markdown",
      "source": [
        "Tweets de Página12"
      ],
      "metadata": {
        "id": "5sBqf5_8LDNb"
      }
    },
    {
      "cell_type": "code",
      "source": [
        "print_tweets(tweets_text, key='pagina12')"
      ],
      "metadata": {
        "colab": {
          "base_uri": "https://localhost:8080/"
        },
        "id": "goCUM7-42TEy",
        "outputId": "760157cd-ecdc-43dc-c4f2-8c11235ea066"
      },
      "execution_count": 12,
      "outputs": [
        {
          "output_type": "stream",
          "name": "stdout",
          "text": [
            "*** pagina12\n",
            "-> | La nueva ofensiva contra Milagro Sala de Gerardo Morales https://t.co/e0jQqeRVju\n",
            "-> | Los investigadores creen que el padre drogó a ambas https://t.co/3TYaVNp7YF\n",
            "-> Italia se estrenó este viernes en la Eurocopa con un contundente triunfo 3-0 contra Turquía, en el estadio Olímpico de Roma, por el Grupo A, del que forman parte también Suiza y a Gales. Los tantos fueron a... https://t.co/h9y7FqOE3G\n",
            "-> Rusia probó una forma de aerosol nasal de su vacuna contra el coronavirus Sputnik V que es adecuada para niños de 8 a 12 años, y planea lanzar el nuevo producto en septiembre.Alexander Gintsburg, quien dirige el Instituto Gamaleya que des... https://t.co/KIrBZENLpC\n",
            "-> | En un día sábado https://t.co/4Cbwc0Cmb1\n",
            "-> | Lo capturó la Policía Federal https://t.co/VY0hY1f2jY\n",
            "-> La Selección Argentina Sub 23 venció este viernes a Arabia Saudita por 2-0 en el segundo y último amistoso de la gira por Marbella, España, como preparación para los Juegos Olímpicos de Tokio.Tras un primer tiempo parejo ante un conjunto asiátic... https://t.co/A2dkKHXL3W\n",
            "-> El nuevo trabajo de la cantautora rosarina indaga en un dolor personal que transforma en seis canciones, que mañana se presentan en un show por streaming. https://t.co/2jGCxYKcBK\n",
            "-> | En la Eurocopa https://t.co/DFcGfFjRhg\n",
            "-> | Dejó el Otamendi y sigue su recuperación en su casa https://t.co/a8A8JWVhWM\n"
          ]
        }
      ]
    },
    {
      "cell_type": "markdown",
      "metadata": {
        "id": "PMARBtZOof0L"
      },
      "source": [
        "###Scrapeo\n",
        "En el caso de las cuentas de Página12 e IPNoticias, sus tweets no contienen el titular de la nota sino alguna frase que pertenece al copete o cuerpo de la misma. Para conseguir sus titulares lo que hago entonces es extraer los links que figuran en los tweets y scrapear las notas."
      ]
    },
    {
      "cell_type": "markdown",
      "source": [
        "#####Extracción de links"
      ],
      "metadata": {
        "id": "5CrZgQrVOmWf"
      }
    },
    {
      "cell_type": "markdown",
      "metadata": {
        "id": "V0TD7UmQvtXA"
      },
      "source": [
        "Por lo general cada tweet finaliza con el link a la nota completa, pero en algunos casos este es precedido por otro link a algún sitio adicional, como puede verse en el caso de IP."
      ]
    },
    {
      "cell_type": "code",
      "source": [
        "tweets_text['_IPNoticias']"
      ],
      "metadata": {
        "colab": {
          "base_uri": "https://localhost:8080/"
        },
        "id": "OY9I0olZ5X9t",
        "outputId": "41f2fad4-0684-482b-855e-d1f5d4a35ac7"
      },
      "execution_count": 13,
      "outputs": [
        {
          "output_type": "execute_result",
          "data": {
            "text/plain": [
              "['⚽ Confirmados los 28 para la #CopaAmerica2021 en #DEPORTIVOIP queremos saber qué pensás sobre el modo de Scaloni para definir la lista... 🔥👇',\n",
              " '💉 La Provincia de Buenos Aires llegó a 5.991.302 personas vacunadas contra el COVID-19, desde el comienzo de la pandemia. 👇\\n\\nhttps://t.co/1YJtcJ0Zle',\n",
              " '⚡️Los fanáticos de Marvel están felices: Loki, el Dios del Engaño, llega con serie propia en exclusiva para Disney Plus. Todos lo detalles te los cuentan @guilloleoz @yesroth y @rippyrizza en @MalditosNerdsVX 👇\\n\\nhttps://t.co/ctzcgKCce5',\n",
              " '🔴 La Ciudad de Buenos Aires registró un total de 2.015 nuevos contagios de COVID-19, en las últimas 24 horas. 👇\\n\\nhttps://t.co/TnsfnjmHlz',\n",
              " '💉🇦🇷 Argentina superó las 370 mil aplicaciones contra el COVID-19 en las últimas 24 horas, con un total de 372.518 en todo el territorio nacional. \\n\\n👉: https://t.co/rJmYAaMF16',\n",
              " '👉 Rodrigo Morabito, juez de Responsabilidad Juvenil N° 1 de la provincia de Catamarca, contó en #RedacciónIP la historia de un caso de robo donde la víctima perdonó al ladrón y evitó la cárcel.\\n\\nCon @andresfidanza, @blancopatricia y @leandrorenou1.\\n\\nhttps://t.co/R0yaqbbFy7',\n",
              " 'El Decreto de Necesidad y Urgencia prevé las cuatro fases sanitarias que ya rigen desde el anterior DNU presidencial, de acuerdo a las fases de riesgos epidemiológicos y sanitarios: zonas de bajo riesgo, de riesgo medio, de alto riesgo y de alarma.\\n\\nhttps://t.co/urFPr0nwB9',\n",
              " '📺 | Todas las noches a las 23 llega #IP30, un resumen de la programación del día.\\n\\n1⃣ Ernesto Resnik y Martín Barrionuevo en #RedacciónIP.\\n2⃣ Ricardo Alfonsín en #IPNoticias.\\n3⃣ Súper jueves en Diputados.\\n4⃣ La diseñadora Jesica Pullo.\\n\\nCon @moviortiz.\\n\\nhttps://t.co/SWHLR8MHLS https://t.co/yGcc8N9wvY',\n",
              " '📺#AHORA| \"Es un claro ejemplo de que las personas nos podemos equivocar\", Mario Rodrigo Morabito, juez de Catamarca sobre el caso en que la víctima perdonó al ladrón.\\n\\nMirá  #RedacciónIP con @andresfidanza @leandrorenou1  y @blancopatricia acá 👉 https://t.co/PgSaBmb7Ec https://t.co/DP49HO2Uum',\n",
              " '📺#AHORA| \"Nos vimos sorprendidos por el emotivo momento entre la víctima y el ladrón\", Mario Rodrigo Morabito, juez de Catamarca.\\n\\nMirá  #RedacciónIP con @andresfidanza @leandrorenou1  y @blancopatricia acá 👉 https://t.co/PgSaBmb7Ec https://t.co/qVFEftxz28']"
            ]
          },
          "metadata": {},
          "execution_count": 13
        }
      ]
    },
    {
      "cell_type": "markdown",
      "metadata": {
        "id": "tBy2NadlFN2l"
      },
      "source": [
        "Pero estos links a su vez están comprimidos por twitter, no son explicitamente los links de los artículos; hay que ingresar en ellos para ser redirigidos a la nota en cuestión. Por ejemplo: https://t.co/e0jQqeRVju te redirige a https://www.pagina12.com.ar/347814-nueva-ofensiva-contra-milagro-sala-cronica-de-un-traslado-in?utm_term=Autofeed&utm_medium=Echobox&utm_source=Twitter#Echobox=1623530491. Con lo cual debo hacer un scraper intermedio que visite cada uno de los links comprimidos y extraiga de allí los links reales de los artículos."
      ]
    },
    {
      "cell_type": "code",
      "source": [
        "links_p12 = get_links( tweets_text['pagina12'] )\n",
        "links_p12 = get_reallinks( links_p12 )\n",
        "\n",
        "links_ipn = get_links( tweets_text['_IPNoticias'] )\n",
        "links_ipn = get_reallinks( links_ipn )"
      ],
      "metadata": {
        "id": "Y1KYY8JLB5sW"
      },
      "execution_count": 14,
      "outputs": []
    },
    {
      "cell_type": "code",
      "source": [
        "links_p12"
      ],
      "metadata": {
        "colab": {
          "base_uri": "https://localhost:8080/"
        },
        "id": "QF7duFNwM3bo",
        "outputId": "55e5fa26-7155-4751-c6a8-76deafa514f0"
      },
      "execution_count": 15,
      "outputs": [
        {
          "output_type": "execute_result",
          "data": {
            "text/plain": [
              "['https://www.pagina12.com.ar/347814-nueva-ofensiva-contra-milagro-sala-cronica-de-un-traslado-in?utm_term=Autofeed&utm_medium=Echobox&utm_source=Twitter#Echobox=1623530491',\n",
              " 'https://www.pagina12.com.ar/347808-horor-en-tenerife-se-dio-a-conocer-la-autopsia-de-la-nina-qu?utm_term=Autofeed&utm_medium=Echobox&utm_source=Twitter#Echobox=1623526894',\n",
              " 'https://www.pagina12.com.ar/347674-italia-inauguro-la-eurocopa-2021-con-una-goleada-ante-turqui?utm_term=Autofeed&utm_medium=Echobox&utm_source=Twitter#Echobox=1623529667',\n",
              " 'https://www.pagina12.com.ar/347813-coronavirus-rusia-prueba-la-vacuna-sputnik-v-en-aerosol-nasa?utm_term=Autofeed&utm_medium=Echobox&utm_source=Twitter#Echobox=1623529667',\n",
              " 'https://www.pagina12.com.ar/347811-coronavirus-en-argentina-se-registraron-18-057-nuevos-casos-?utm_term=Autofeed&utm_medium=Echobox&utm_source=Twitter#Echobox=1623528635',\n",
              " 'https://www.pagina12.com.ar/347803-el-represor-chileno-walter-klug-rivera-fue-detenido-en-caba?utm_term=Autofeed&utm_medium=Echobox&utm_source=Twitter#Echobox=1623520702',\n",
              " 'https://www.pagina12.com.ar/347599-los-goles-de-la-seleccion-sub-23-frente-a-arabia-saudita?utm_term=Autofeed&utm_medium=Echobox&utm_source=Twitter#Echobox=1623526894',\n",
              " 'https://www.pagina12.com.ar/347620-el-lado-luminoso-de-las-canciones-para-seguir?utm_term=Autofeed&utm_medium=Echobox&utm_source=Twitter#Echobox=1623525990',\n",
              " 'https://www.pagina12.com.ar/347801-christian-eriksen-se-desplomo-y-lograron-reanimarlo-con-rcp-?utm_term=Autofeed&utm_medium=Echobox&utm_source=Twitter#Echobox=1623523429',\n",
              " 'https://www.pagina12.com.ar/347804-el-tuit-de-florencia-kirchner-tras-recibir-el-alta?utm_term=Autofeed&utm_medium=Echobox&utm_source=Twitter#Echobox=1623519867']"
            ]
          },
          "metadata": {},
          "execution_count": 15
        }
      ]
    },
    {
      "cell_type": "code",
      "source": [
        "links_ipn"
      ],
      "metadata": {
        "colab": {
          "base_uri": "https://localhost:8080/"
        },
        "id": "oTg5qKtINNMt",
        "outputId": "8c72be5c-dbb3-4e34-966f-1b0e3e730001"
      },
      "execution_count": 16,
      "outputs": [
        {
          "output_type": "execute_result",
          "data": {
            "text/plain": [
              "['https://ip.digital/nota/6781-coronavirus-pba-se-cerca-6-millones-de-vacunados',\n",
              " 'https://ip.digital/nota/6779-malditos-nerds-todo-sobre-loki-la-nueva-serie-de-marvel',\n",
              " 'https://ip.digital/nota/6780-covid-19-caba-registro-2015-casos',\n",
              " 'https://ip.digital/nota/6782-covid-19-argentina-supero-370-mil-vacunaciones',\n",
              " 'https://ip.digital/nota/6772-la-victima-perdono-al-ladron-y-no-fue-la-carcel',\n",
              " 'https://ip.digital/nota/6771-que-dice-el-dnu-que-comienza-regir-este-sabado',\n",
              " 'https://twitter.com/_IPNoticias/status/1403531246668369920/video/1',\n",
              " 'https://twitter.com/_IPNoticias/status/1403526461970124800/photo/1',\n",
              " 'https://twitter.com/_IPNoticias/status/1403526269711572993/photo/1']"
            ]
          },
          "metadata": {},
          "execution_count": 16
        }
      ]
    },
    {
      "cell_type": "markdown",
      "source": [
        "Más aún, los links de algunos tweets de IP no te dirigen a un artículo periodístico si no a fragmentos de video de sus programas emitidos por televisión."
      ],
      "metadata": {
        "id": "6E1V2Hb5NZ08"
      }
    },
    {
      "cell_type": "markdown",
      "metadata": {
        "id": "yPqjx1ndvpq9"
      },
      "source": [
        "#####Extracción de titulares\n",
        "Ahora sí, teniendo los links a las publicaciones de ambos medios, puedo extraer sus titulares."
      ]
    },
    {
      "cell_type": "code",
      "metadata": {
        "id": "4RBQQVvdvoi7"
      },
      "source": [
        "tweets_text['pagina12'] = get_titles_p12( links_p12 )"
      ],
      "execution_count": 17,
      "outputs": []
    },
    {
      "cell_type": "code",
      "source": [
        "tweets_text['_IPNoticias'] = get_titles_ipn( links_ipn )"
      ],
      "metadata": {
        "id": "bDiEGXGASdTg"
      },
      "execution_count": 18,
      "outputs": []
    },
    {
      "cell_type": "markdown",
      "source": [
        "Obteniendo:"
      ],
      "metadata": {
        "id": "Qr7u5Z5cS4Kp"
      }
    },
    {
      "cell_type": "code",
      "source": [
        "tweets_text['pagina12']"
      ],
      "metadata": {
        "colab": {
          "base_uri": "https://localhost:8080/"
        },
        "id": "x115eeODSx1u",
        "outputId": "0b68389b-71de-4344-ec5e-6bbeea4bb6c1"
      },
      "execution_count": 19,
      "outputs": [
        {
          "output_type": "execute_result",
          "data": {
            "text/plain": [
              "['Nueva ofensiva contra Milagro Sala: crónica de un \"traslado intempestivo\"',\n",
              " 'Horror en Tenerife:\\xa0se dio a conocer la autopsia de la niña que hallaron muerta en el mar',\n",
              " 'Italia inauguró la Eurocopa 2021 con una goleada ante Turquía',\n",
              " 'Coronavirus: Rusia prueba la vacuna Sputnik V en aerosol nasal',\n",
              " 'Coronavirus en Argentina: se registraron 18.057 nuevos casos y 447 muertes',\n",
              " 'El represor chileno Walther Klug Rivera fue detenido en CABA',\n",
              " 'Los goles de la Selección Sub 23 frente a Arabia Saudita',\n",
              " 'El lado luminoso de las canciones para seguir',\n",
              " 'El fútbol estuvo en vilo por el episodio del danés Eriksen',\n",
              " 'El tuit de Florencia Kirchner tras recibir el alta']"
            ]
          },
          "metadata": {},
          "execution_count": 19
        }
      ]
    },
    {
      "cell_type": "code",
      "source": [
        "tweets_text['_IPNoticias']"
      ],
      "metadata": {
        "colab": {
          "base_uri": "https://localhost:8080/"
        },
        "id": "q-lMnvjcS8FG",
        "outputId": "d26dd578-1988-4ffb-ea8d-0b97bd7da76d"
      },
      "execution_count": 20,
      "outputs": [
        {
          "output_type": "execute_result",
          "data": {
            "text/plain": [
              "['Coronavirus: PBA se cerca a 6 millones de vacunados',\n",
              " 'Malditos Nerds: todo sobre Loki, la nueva serie de Marvel',\n",
              " 'COVID-19: CABA registró 2.015 casos',\n",
              " 'COVID-19: Argentina superó 370 mil vacunaciones',\n",
              " 'La víctima perdonó al ladrón y no fue a la cárcel',\n",
              " '¿Qué dice el DNU que comienza a regir este sábado?']"
            ]
          },
          "metadata": {},
          "execution_count": 20
        }
      ]
    },
    {
      "cell_type": "markdown",
      "source": [
        "Observesé que de esta forma los titulares ya salen limpios, sin caracteres especiales no alfanuméticos ni emojis, como si figuran en los tweets."
      ],
      "metadata": {
        "id": "4N3DLpMLTBV_"
      }
    },
    {
      "cell_type": "markdown",
      "metadata": {
        "id": "z-g9WgPfoZQh"
      },
      "source": [
        "#2. Limpieza de los tweets\n",
        "\n",
        "Lo siguientes es, para los tweets de todas las demas cuentas, eliminar de su contenido todo aquello que no sea el titular de la nota.\n",
        "\n",
        "Recordemos que en todos los casos de todos los medios, el tweet es finalizado con un link, encontrarlo y eliminarlo es el primer paso en común para todos los medios."
      ]
    },
    {
      "cell_type": "code",
      "metadata": {
        "id": "nTsKsSD_pJK9"
      },
      "source": [
        "def delete_links(tweets_list):\n",
        "    tweets = tweets_list.copy()\n",
        "\n",
        "    regex = re.compile( 'https.*' )\n",
        "    tweets = [ re.sub( regex, '', t ) for t in tweets ]\n",
        "    \n",
        "    return tweets"
      ],
      "execution_count": 21,
      "outputs": []
    },
    {
      "cell_type": "markdown",
      "metadata": {
        "id": "bt6tshstJd6f"
      },
      "source": [
        "Una vez que al contenido de los tweets de todos los medios se le eliminaron los links del final, se pasan los tweets de cada medio por una función particular que los limpia de la forma que corresponda. Dado que cada medio adorna sus tweets de diferentes formas, hay una función para cada medio excepto para Página12 e IPNoticias que, como vimos, salen limpios del scrapeo.\n",
        "\n",
        "Por lo general la \"suciedad\" en los tweets que queremos eliminar viene en forma de emojis, de hashtags no integrados en el texto, de menciones a los actores de la noticia, a sus redactores o a sus cuentas, o caracteres especiales utilizados para darle algún formato al tweet. Por ejemplo:"
      ]
    },
    {
      "cell_type": "code",
      "source": [
        "tweets_text['LANACION']"
      ],
      "metadata": {
        "colab": {
          "base_uri": "https://localhost:8080/"
        },
        "id": "ZJVWz2h8xDy5",
        "outputId": "0b3bcd08-e74a-4ec1-e44a-301ef2230584"
      },
      "execution_count": 22,
      "outputs": [
        {
          "output_type": "execute_result",
          "data": {
            "text/plain": [
              "['Video: el ataque de furia de un hombre contra un motociclista tras un choque en Tucumán https://t.co/jhuPD8jvj4 https://t.co/fU2OXgMwdG',\n",
              " 'Yao Cabrera vs el Chino Maidana: el youtuber mostró cómo se entrena para la esperada pelea https://t.co/khxA6h9CVU https://t.co/DGYKMv5Zs2',\n",
              " '“Matando al coronavirus”: la China Suárez mostró el tierno “protocolo” de su hija Magnolia https://t.co/MLSREmlMCN https://t.co/939SmcEQhx',\n",
              " 'El drama de Delfina Gerez Bosco: tuvieron que operarla por un tumor de 750 gramos https://t.co/FH57dD9tbz https://t.co/gzfhzbIMMN',\n",
              " 'Así resguardan las empresas su capital en pesos: la compra de oficinas premium y depósitos logísticos es una gran alternativa para convertir el capital en “ladrillos”. Brick Value, un plan para “dolarizar” el capital acumulado en pesos\\n[#Contentlab para #Cushman&amp;Wakefield] https://t.co/kzlK2lShQP',\n",
              " 'Copa América: entrenadores maduros y argentinos, el perfil de lo que se verá al borde de la cancha https://t.co/MD7RtgFZWJ https://t.co/YNgikGD3x6',\n",
              " 'Ranking de Netflix Argentina: las 10 series y películas más vistas este 12 de junio https://t.co/U4RUGtUgmI https://t.co/gpI4EAlQrG',\n",
              " 'Nadal empieza a ser más Federer: la pelea por el N° 1 de la historia y cómo afronta el Big 3 el reto final https://t.co/9OVx9Kz1Ui https://t.co/U6dBkxEx4d',\n",
              " 'Brother presenta en la Argentina sus nuevos modelos de impresoras multifunción InkBenefitTank https://t.co/qbVDpeCbFE https://t.co/2UtzQNUWsY',\n",
              " 'Horror en Tenerife: qué es la “violencia vicaria” y qué tiene que ver con el caso de las dos niñas desaparecidas que conmociona a España https://t.co/EBoL13bm5U https://t.co/yZhRYMvOHy']"
            ]
          },
          "metadata": {},
          "execution_count": 22
        }
      ]
    },
    {
      "cell_type": "code",
      "source": [
        "print(tweets_text['_IPNoticias'][2])"
      ],
      "metadata": {
        "colab": {
          "base_uri": "https://localhost:8080/"
        },
        "id": "SUmr6NNJykAU",
        "outputId": "6fba4db8-a45d-47c9-d4ec-19e9f10f0da3"
      },
      "execution_count": 23,
      "outputs": [
        {
          "output_type": "stream",
          "name": "stdout",
          "text": [
            "COVID-19: CABA registró 2.015 casos\n"
          ]
        }
      ]
    },
    {
      "cell_type": "code",
      "source": [
        "print(tweets_text['infobae'][5])"
      ],
      "metadata": {
        "colab": {
          "base_uri": "https://localhost:8080/"
        },
        "id": "FkxrPjPXzY9D",
        "outputId": "c378baa0-c586-4f9e-ab05-94b188f74a1b"
      },
      "execution_count": 24,
      "outputs": [
        {
          "output_type": "stream",
          "name": "stdout",
          "text": [
            "El Mercosur sigue paralizado: se suspendió la cumbre de cancilleres por las diferencias internas en el bloque | Por Eduardo Menegazzi\n",
            " https://t.co/S98mCB3ltr\n"
          ]
        }
      ]
    },
    {
      "cell_type": "markdown",
      "source": [
        "Puede ser que incluso algunos medios publiquen un tweet que no referencie en absoluto a una nota periodística y sea sólo publicidad, una alerta de tránsito o clima, o un retweet a otra cuenta (no necesariamente informativa). "
      ],
      "metadata": {
        "id": "r-d32Bxtyosm"
      }
    },
    {
      "cell_type": "code",
      "source": [
        "print(tweets_text['cronica'][-1])"
      ],
      "metadata": {
        "colab": {
          "base_uri": "https://localhost:8080/"
        },
        "id": "ZAHjxqCh1tbV",
        "outputId": "23f3c097-dbab-4bdb-f8fc-1d32c12d78d0"
      },
      "execution_count": 25,
      "outputs": [
        {
          "output_type": "stream",
          "name": "stdout",
          "text": [
            "RT @depoweb: #Codiciado El jugador rechazó ambas ofertas porque prefirió seguir en Europa. Enterate de quién se trata, en la nota #Boca #Ri…\n"
          ]
        }
      ]
    },
    {
      "cell_type": "markdown",
      "source": [
        "En estos casos casos optamos por descartar esos tweets."
      ],
      "metadata": {
        "id": "mktZzGbH2THO"
      }
    },
    {
      "cell_type": "markdown",
      "source": [
        "Las funciones definidas a continuación sirven para limpiar el contenido de los tweets y obtener así los titulares limpios. \n",
        "\n",
        "NOTA: Estas funciones están escritas en el tiempo en que transcurrió el proyecto; en el fúturo las cuentas podrían cambiar los formatos de sus tweets y habría que adaptar estas funciones a esos cambios."
      ],
      "metadata": {
        "id": "-a9Naq5c3_fM"
      }
    },
    {
      "cell_type": "markdown",
      "metadata": {
        "id": "fgXb4c9qwPu3"
      },
      "source": [
        "####TN"
      ]
    },
    {
      "cell_type": "markdown",
      "source": [
        "Mas o menos la mitad de los tweets finalizan bajando dos lineas y agregando el nombre de quien escribió la nota.\n",
        "\n",
        ">El lenguaje inclusivo siempre hace ruido \\\\\n",
        " &nbsp; \\\\\n",
        "Por Silvana Stabielli https://t.co/N2WlLfKHFo\n",
        "\n",
        ">Adrián Barilari habló sobre su nuevo trabajo, su interés por el tango, y un clásico de Rata Blanca que compuso en el baño \\\\\n",
        "&nbsp; \\\\\n",
        "Por Carlos Iogna Prat https://t.co/2lSG1b7NNE\n",
        "\n"
      ],
      "metadata": {
        "id": "9rChopRrw6Ar"
      }
    },
    {
      "cell_type": "code",
      "metadata": {
        "id": "j75dUTa7wSyM"
      },
      "source": [
        "def clean_tn(tn_titles):\n",
        "    titles = delete_links( tn_titles )\n",
        "    \n",
        "    titles  = [ t.split('\\n\\n')[0] for t in titles ]\n",
        "\n",
        "    return titles"
      ],
      "execution_count": 26,
      "outputs": []
    },
    {
      "cell_type": "code",
      "source": [
        "medio = 'todonoticias'\n",
        "tweets_text[ medio ]  =  clean_tn( tweets_text[medio] )"
      ],
      "metadata": {
        "id": "TQzaNlr34y1y"
      },
      "execution_count": 27,
      "outputs": []
    },
    {
      "cell_type": "markdown",
      "source": [
        "#### La Nación"
      ],
      "metadata": {
        "id": "KIV9ZXCf0ROr"
      }
    },
    {
      "cell_type": "markdown",
      "source": [
        "Casi todos los tweets ya tienen el titular limpio, pero finalizan con dos links: uno a la nota completa y otro al mismo tweet.\n",
        "Hay algunos pocos que finalizan con alguna mención a entidades que participaron en la nota, como por ejemplo:\n",
        "\n",
        "\n",
        "\n",
        ">  'Así resguardan las empresas su capital en pesos: la compra de oficinas premium y depósitos logísticos es una gran alternativa para convertir el capital en “ladrillos”. Brick Value, un plan para “dolarizar” el capital acumulado en pesos \\\\\n",
        "[#Contentlab para #Cushman&amp;Wakefield] https://t.co/kzlK2lShQP'\n",
        "\n",
        "\n"
      ],
      "metadata": {
        "id": "_dPKgO6L0TDS"
      }
    },
    {
      "cell_type": "code",
      "source": [
        "def clean_ln(ln_titles):\n",
        "    titles = delete_links( ln_titles )\n",
        "    titles = delete_links( titles )\n",
        "\n",
        "    regex = re.compile( '\\\\n\\[.*\\]' )\n",
        "    titles = [ re.sub(regex, '',t) for t in titles ]\n",
        "    return titles"
      ],
      "metadata": {
        "id": "Ebg8gjqe0cjg"
      },
      "execution_count": 28,
      "outputs": []
    },
    {
      "cell_type": "code",
      "source": [
        "medio = 'LANACION'\n",
        "tweets_text[medio] = clean_ln( tweets_text[medio] )"
      ],
      "metadata": {
        "id": "HepitHQy0pRV"
      },
      "execution_count": 29,
      "outputs": []
    },
    {
      "cell_type": "markdown",
      "metadata": {
        "id": "IoCxy2rgwcsl"
      },
      "source": [
        "####Clarín"
      ]
    },
    {
      "cell_type": "markdown",
      "source": [
        "En la gran mayoría de los tweets de Clarín tienen el titular limpio.\n",
        "Sin embargo hay algunos pocos que inician con un emoji y terminan dando pié a la nota con un \"Más: \"\n",
        "> 👉El director del Instituto Gamaleya señaló que las dos dosis también son efectivas contra la variante Delta, la más contagiosa del mundo. Más: https://t.co/3FrwtVAKxH https://t.co/KYlfKknrth\n"
      ],
      "metadata": {
        "id": "XVSBn_rnNqtj"
      }
    },
    {
      "cell_type": "code",
      "metadata": {
        "id": "bgMR3c6upLA2"
      },
      "source": [
        "def clean_clarin(clarin_titles):    \n",
        "    titles = delete_links( clarin_titles )\n",
        "    \n",
        "    #Descarto los que inician con emoji (que no es letra ni simbolo)\n",
        "    titles = [ title[1:] if title[0] not in (LETTERS+SYMBOLS) \n",
        "                         else title\n",
        "                         for title in titles] \n",
        "                         \n",
        "    #Elimino el \"Más:\" posterior al titular, que daba pié al link con la nota completa\n",
        "    titles = [ t.replace('. Más:', '') for t in titles ]\n",
        "        \n",
        "    return titles"
      ],
      "execution_count": 30,
      "outputs": []
    },
    {
      "cell_type": "code",
      "source": [
        "medio = 'clarincom'\n",
        "tweets_text[ medio ]  =  clean_clarin( tweets_text[medio] )"
      ],
      "metadata": {
        "id": "910kU9pc7DPC"
      },
      "execution_count": 31,
      "outputs": []
    },
    {
      "cell_type": "markdown",
      "source": [
        "####Crónica"
      ],
      "metadata": {
        "id": "eZQm1__CdIt9"
      }
    },
    {
      "cell_type": "markdown",
      "source": [
        "Los titulares a limpiar suelen ser de las siguientes formas.\n",
        "\n",
        "\n",
        "Tienen hashtags no integrados al titular\n",
        "> '#VIDEO \"No sabés con quién te estás metiendo\": así presunto juez atacó a un motociclista en una escena a lo \"Relatos Salvajes\" #TremendaSecuencia #Tucumán #MiráLasImágenes https://t.co/yLwsUk0aM0'\n",
        "\n",
        "Son retweets de otros medios o usuarios\n",
        "> 'RT @depoweb: Goleador reveló que tanto Boca como River quisieron contratarlo https://t.co/PbsX9IY6gG'\n",
        "\n",
        "Inician con una palabra o frase entre emojis e incluyen el subtitulo de la nota luego de caracteres \">\"\n",
        "> ❤️[EMOTIVO]❤️ El conmovedor tatuaje de Ricky Sarkany en honor a su hija Sofía: \"Para siempre\" &gt;&gt;&gt; El diseñador compartió el dibujo con el que inmortalizó en su piel a su primogénita quien falleció en marzo tras una dura batalla contra el cáncer de útero. https://t.co/iKqCrbJbPq\n"
      ],
      "metadata": {
        "id": "T_LuknsSFtGk"
      }
    },
    {
      "cell_type": "code",
      "source": [
        "def clean_cronica(cronica_titles):\n",
        "    titles = delete_links(cronica_titles)\n",
        "\n",
        "    titles = [ t for t in titles if 'RT @' not in t ]\n",
        "\n",
        "    titles = [ t.split('&gt;')[0] for t in titles ]\n",
        "    \n",
        "    regex = re.compile( '.\\[.*\\].' )\n",
        "    titles = [ re.sub(regex, '',t) for t in titles ]\n",
        "\n",
        "    regex = re.compile( '#\\S+' )\n",
        "    titles = [ re.sub(regex,'',t) for t in titles ]\n",
        "\n",
        "    return titles"
      ],
      "metadata": {
        "id": "iilMYMzcdKxW"
      },
      "execution_count": 32,
      "outputs": []
    },
    {
      "cell_type": "code",
      "source": [
        "tweets_text['cronica'] = clean_cronica(tweets_text['cronica'])\n",
        "tweets_text['cronica']"
      ],
      "metadata": {
        "colab": {
          "base_uri": "https://localhost:8080/"
        },
        "id": "aTdB9deDAADU",
        "outputId": "8eb6b5b3-5fe3-47e4-cbd9-0440fa27f306"
      },
      "execution_count": 33,
      "outputs": [
        {
          "output_type": "execute_result",
          "data": {
            "text/plain": [
              "[' \"No sabés con quién te estás metiendo\": así presunto juez atacó a un motociclista en una escena a lo \"Relatos Salvajes\"    ',\n",
              " '\"No sabés con quién te estás metiendo\": así presunto juez atacó a un motociclista en una escena a lo \"Relatos Salvajes\" ',\n",
              " '\"Soy un ser superior\": cómo fueron los macabros crímenes del \"doctor muerte\", el médico que asesinó a más de 200 pacientes ',\n",
              " 'Fue al médico con el ojo irritado y descubrió algo horroroso ']"
            ]
          },
          "metadata": {},
          "execution_count": 33
        }
      ]
    },
    {
      "cell_type": "markdown",
      "source": [
        "Observese que los primeros dos titulares que sobrevivieron a la limpieza son idénticos, con lo cual también vamos a tener que eliminar duplicados."
      ],
      "metadata": {
        "id": "b3e55zXDZQWV"
      }
    },
    {
      "cell_type": "markdown",
      "source": [
        "#### Infobae"
      ],
      "metadata": {
        "id": "AkosdOsk-Hjx"
      }
    },
    {
      "cell_type": "markdown",
      "source": [
        "Algunos finalizan con el nombre del autor del artículo escrito como  \"| Por *Nombre* *Apellido*\"\n",
        "\n",
        ">Dos gigantes multinacionales ofrecen más de 2.000 puestos de trabajo en la Argentina: qué perfiles buscan | Por Ximena Casas\n",
        " https://t.co/NBOHzQxaql\n",
        "\n",
        "Pueden iniciar también con una palabra o frase en mayúsculas entre corchetes:\n",
        "\n",
        ">[OPINIÓN] Hacer seguidismo con México no sustituye la falta de política con Brasil y el Mercosur | Por Mariano Caucino\n",
        " https://t.co/3GACDT6Lj5\n",
        "\n",
        "Iniciar con emojis y palabras en mayuscula\n",
        ">🔴 AHORA | La ciudad de Buenos Aires abrirá la inscripción para que se vacunen los mayores de 40 años sin comorbilidades https://t.co/1mJIxMB2qJ\n",
        "\n",
        "O bien tener un doble link al final o ser retweets."
      ],
      "metadata": {
        "id": "1LWwPrSQ-Jj5"
      }
    },
    {
      "cell_type": "code",
      "source": [
        "def clean_infobae(infobae_titles):\n",
        "    titles = delete_links( infobae_titles )\n",
        "    titles = delete_links( titles )\n",
        "\n",
        "    titles = [ t for t in titles if 'RT @' not in t ]\n",
        "\n",
        "    regex = re.compile( '. ([A-Z]\\S+) \\| ' )\n",
        "    titles = [re.sub(regex, '', t) for t in titles ]\n",
        "\n",
        "    titles = [ t.split('| Por')[0] for t in titles ]\n",
        "\n",
        "    return titles"
      ],
      "metadata": {
        "id": "IleusQs7DWCj"
      },
      "execution_count": 34,
      "outputs": []
    },
    {
      "cell_type": "code",
      "source": [
        "medio = 'infobae'\n",
        "tweets_text[medio] = clean_infobae( tweets_text[medio] )"
      ],
      "metadata": {
        "id": "0Bjdj1dnFoa6"
      },
      "execution_count": 35,
      "outputs": []
    },
    {
      "cell_type": "markdown",
      "source": [
        "####Observación importante"
      ],
      "metadata": {
        "id": "HK-1eNbrZp1T"
      }
    },
    {
      "cell_type": "markdown",
      "source": [
        "Originalmente habíamos partido con 10 tweets de cada cuenta. Ahora, luego de a limpieza nos quedaron para cada medio:"
      ],
      "metadata": {
        "id": "zZPm5-I2Z183"
      }
    },
    {
      "cell_type": "code",
      "source": [
        "print('CUENTA \\t\\t Nº DE TWEETS\\n')\n",
        "for k in tweets_text.keys():\n",
        "    print(k,'\\t\\t', len(tweets_text[k]))"
      ],
      "metadata": {
        "colab": {
          "base_uri": "https://localhost:8080/"
        },
        "id": "fxGxpwwiY2QI",
        "outputId": "0c02ff66-c2f0-49d8-b950-27a424d0b43a"
      },
      "execution_count": 36,
      "outputs": [
        {
          "output_type": "stream",
          "name": "stdout",
          "text": [
            "CUENTA \t\t Nº DE TWEETS\n",
            "\n",
            "clarincom \t\t 10\n",
            "cronica \t\t 4\n",
            "infobae \t\t 10\n",
            "_IPNoticias \t\t 6\n",
            "LANACION \t\t 10\n",
            "pagina12 \t\t 10\n",
            "todonoticias \t\t 10\n"
          ]
        }
      ]
    },
    {
      "cell_type": "markdown",
      "source": [
        "Tenemos entonces ya un desbalance de clases causado por la limpieza de los datos. Y recordemos también que podría haber titulares duplicados, como en el caso de crónica.\n",
        "\n",
        "Por último cabe decir que con estas funciones podemos recuperar de los tweet la inmensa mayoría de los titulares. Pero de todas formas es bueno inspeccionar el resultado final, constatar que las listas contengan los titulares limpios como corresponde, y limpiar a mano algún tweet particular que haya tenido un formato específico que no haya sido capturado por las funciones."
      ],
      "metadata": {
        "id": "KXv4BavkZnMz"
      }
    },
    {
      "cell_type": "markdown",
      "metadata": {
        "id": "FYMkvXNYon8y"
      },
      "source": [
        "#3. Armado de dataset"
      ]
    },
    {
      "cell_type": "markdown",
      "source": [
        "Quiero transformar ```tweets_text``` en una lista de diccionarios de la forma:\n",
        "\n",
        "\n",
        "```\n",
        "data = [ {'medio':'m1', 'titular':'t1', 'titular_lematizado':'n1'},\n",
        "         {'medio':'m1', 'titular':'t2', 'titular_lematizado':'n2'},\n",
        "         {'medio':'m2', 'titular':'t3', 'titular_lematizado':'n3'},\n",
        "         {'medio':'m3', 'titular':'t4', 'titular_lematizado':'n4'},\n",
        "         {'medio':'m3', 'titular':'t5', 'titular_lematizado':'n5'},\n",
        "         {'medio':'m3', 'titular':'t6', 'titular_lematizado':'n6'},\n",
        "         ...]\n",
        "```\n",
        "Para poder luego guardarlo luego en un csv limpio más facilmente.\n",
        "\n",
        "Necesito primero definir una función que, dado un titular, me lo devuelva lematizado y, de paso, sin signos de puntuación. Para lograr esto probamos varias librerias de NLP y la que nos dió mejores resultados fué Stanza."
      ],
      "metadata": {
        "id": "nSDp8GMiAOoZ"
      }
    },
    {
      "cell_type": "code",
      "source": [
        "data = []\n",
        "\n",
        "for medio in tweets_text.keys():\n",
        "    for titular in tweets_text[medio]:\n",
        "        d = {'medio':medio,\n",
        "             'titular_raw':titular,\n",
        "             'titular_lem': lemmatize( titular ) }\n",
        "\n",
        "        data.append(d)"
      ],
      "metadata": {
        "id": "p0_dSlDYCEDW",
        "colab": {
          "base_uri": "https://localhost:8080/"
        },
        "outputId": "ae49efaf-861b-41e7-e4e1-29f2f8473df9"
      },
      "execution_count": 37,
      "outputs": [
        {
          "output_type": "stream",
          "name": "stderr",
          "text": [
            "/usr/local/lib/python3.7/dist-packages/stanza/models/common/beam.py:86: UserWarning: __floordiv__ is deprecated, and its behavior will change in a future version of pytorch. It currently rounds toward 0 (like the 'trunc' function NOT 'floor'). This results in incorrect rounding for negative values. To keep the current behavior, use torch.div(a, b, rounding_mode='trunc'), or for actual floor division, use torch.div(a, b, rounding_mode='floor').\n",
            "  prevK = bestScoresId // numWords\n"
          ]
        }
      ]
    },
    {
      "cell_type": "markdown",
      "source": [
        "Y así conseguimos los titulareslematizados con los que alimentamos el modelo:"
      ],
      "metadata": {
        "id": "h_ug-88Qa00t"
      }
    },
    {
      "cell_type": "code",
      "source": [
        "data[20:30]"
      ],
      "metadata": {
        "colab": {
          "base_uri": "https://localhost:8080/"
        },
        "id": "4O-5ABn7a5qF",
        "outputId": "9367d0fd-a1e9-48b0-96f1-fef2c06ab526"
      },
      "execution_count": 38,
      "outputs": [
        {
          "output_type": "execute_result",
          "data": {
            "text/plain": [
              "[{'medio': 'infobae',\n",
              "  'titular_lem': 'calefaccionar balcón y terraza opción acondicionar espacio aire libre nuevo normalidad invierno',\n",
              "  'titular_raw': 'Cómo calefaccionar el balcón y la terraza: opciones para acondicionar los espacios al aire libre a la nueva normalidad en invierno '},\n",
              " {'medio': 'infobae',\n",
              "  'titular_lem': 'gobierno reducir vuelo europa y suspender nuevo destino evitar ingreso más cepa covid-19',\n",
              "  'titular_raw': 'El Gobierno redujo los vuelos con Europa y suspendió nuevos destinos para evitar el ingreso de más cepas del COVID-19 '},\n",
              " {'medio': 'infobae',\n",
              "  'titular_lem': '77 foto primero dos semana showmatch backstage truco participante y transformación humorista',\n",
              "  'titular_raw': '77 fotos de las primeras dos semanas de ShowMatch: el backstage, los trucos de los participantes y la transformación de los humoristas '},\n",
              " {'medio': 'infobae',\n",
              "  'titular_lem': 'amar christian grito gol romelu lukaku dedicado eriksen recorrer mundo',\n",
              "  'titular_raw': '“¡Te amo, Christian!”: el grito de gol de Romelu Lukaku dedicado a Eriksen que recorre el mundo '},\n",
              " {'medio': '_IPNoticias',\n",
              "  'titular_lem': 'coronavirus par cerca 6 millón vacunado',\n",
              "  'titular_raw': 'Coronavirus: PBA se cerca a 6 millones de vacunados'},\n",
              " {'medio': '_IPNoticias',\n",
              "  'titular_lem': 'malditos nerds loki nuevo serie marvel',\n",
              "  'titular_raw': 'Malditos Nerds: todo sobre Loki, la nueva serie de Marvel'},\n",
              " {'medio': '_IPNoticias',\n",
              "  'titular_lem': 'covid-19 caba registrar 2015 caso',\n",
              "  'titular_raw': 'COVID-19: CABA registró 2.015 casos'},\n",
              " {'medio': '_IPNoticias',\n",
              "  'titular_lem': 'covid-19 argentina superar 370 mil vacunaciones',\n",
              "  'titular_raw': 'COVID-19: Argentina superó 370 mil vacunaciones'},\n",
              " {'medio': '_IPNoticias',\n",
              "  'titular_lem': 'víctima perdonar ladrón y no ser cárcel',\n",
              "  'titular_raw': 'La víctima perdonó al ladrón y no fue a la cárcel'},\n",
              " {'medio': '_IPNoticias',\n",
              "  'titular_lem': 'decir dnu comenzar regir sábado',\n",
              "  'titular_raw': '¿Qué dice el DNU que comienza a regir este sábado?'}]"
            ]
          },
          "metadata": {},
          "execution_count": 38
        }
      ]
    },
    {
      "cell_type": "markdown",
      "source": [
        "\n",
        "#4. Guardado"
      ],
      "metadata": {
        "id": "trAWh_hvJVK9"
      }
    },
    {
      "cell_type": "markdown",
      "source": [
        "Finalmente gurdo esto en un archivo .csv para poder poder leerlo en la siguient etapa."
      ],
      "metadata": {
        "id": "p_MOElJLbucA"
      }
    },
    {
      "cell_type": "code",
      "source": [
        "FILENAME = 'titulares_muestra.csv'\n",
        "\n",
        "with open(FILENAME, 'w') as file:\n",
        "\n",
        "    writer = csv.DictWriter(file, fieldnames=data[0].keys())\n",
        "    \n",
        "    writer.writeheader()\n",
        "    writer.writerows( data )"
      ],
      "metadata": {
        "id": "wlNWRo5KyiM0"
      },
      "execution_count": 48,
      "outputs": []
    }
  ]
}